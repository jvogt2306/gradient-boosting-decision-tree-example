{
 "metadata": {
  "language_info": {
   "codemirror_mode": {
    "name": "ipython",
    "version": 3
   },
   "file_extension": ".py",
   "mimetype": "text/x-python",
   "name": "python",
   "nbconvert_exporter": "python",
   "pygments_lexer": "ipython3",
   "version": "3.8.5"
  },
  "orig_nbformat": 2,
  "kernelspec": {
   "name": "python38564bitf8989dcb9e854f0e8ad124f7d8e24d67",
   "display_name": "Python 3.8.5 64-bit"
  },
  "metadata": {
   "interpreter": {
    "hash": "31f2aee4e71d21fbe5cf8b01ff0e069b9275f58929596ceb00d14d90e3e16cd6"
   }
  }
 },
 "nbformat": 4,
 "nbformat_minor": 2,
 "cells": [
  {
   "cell_type": "code",
   "execution_count": 125,
   "metadata": {},
   "outputs": [],
   "source": [
    "from sklearn.ensemble import GradientBoostingRegressor\n",
    "import numpy as np\n",
    "import pandas as pd\n",
    "from sklearn.model_selection import train_test_split\n",
    "from sklearn.metrics import mean_squared_error\n",
    "from sklearn.datasets import load_boston\n",
    "from sklearn.metrics import mean_absolute_error"
   ]
  },
  {
   "source": [
    "## Load Data Section: \n",
    "Load Boston House Prices from sklearn.datasets"
   ],
   "cell_type": "markdown",
   "metadata": {}
  },
  {
   "cell_type": "code",
   "execution_count": 126,
   "metadata": {},
   "outputs": [],
   "source": [
    "boston = load_boston()\n",
    "X = pd.DataFrame(boston.data, columns=boston.feature_names)\n",
    "y = pd.Series(boston.target)"
   ]
  },
  {
   "cell_type": "code",
   "execution_count": 127,
   "metadata": {},
   "outputs": [
    {
     "output_type": "execute_result",
     "data": {
      "text/plain": [
       "      CRIM    ZN  INDUS  CHAS    NOX     RM    AGE     DIS  RAD    TAX  \\\n",
       "0  0.00632  18.0   2.31   0.0  0.538  6.575   65.2  4.0900  1.0  296.0   \n",
       "1  0.02731   0.0   7.07   0.0  0.469  6.421   78.9  4.9671  2.0  242.0   \n",
       "2  0.02729   0.0   7.07   0.0  0.469  7.185   61.1  4.9671  2.0  242.0   \n",
       "3  0.03237   0.0   2.18   0.0  0.458  6.998   45.8  6.0622  3.0  222.0   \n",
       "4  0.06905   0.0   2.18   0.0  0.458  7.147   54.2  6.0622  3.0  222.0   \n",
       "5  0.02985   0.0   2.18   0.0  0.458  6.430   58.7  6.0622  3.0  222.0   \n",
       "6  0.08829  12.5   7.87   0.0  0.524  6.012   66.6  5.5605  5.0  311.0   \n",
       "7  0.14455  12.5   7.87   0.0  0.524  6.172   96.1  5.9505  5.0  311.0   \n",
       "8  0.21124  12.5   7.87   0.0  0.524  5.631  100.0  6.0821  5.0  311.0   \n",
       "9  0.17004  12.5   7.87   0.0  0.524  6.004   85.9  6.5921  5.0  311.0   \n",
       "\n",
       "   PTRATIO       B  LSTAT  \n",
       "0     15.3  396.90   4.98  \n",
       "1     17.8  396.90   9.14  \n",
       "2     17.8  392.83   4.03  \n",
       "3     18.7  394.63   2.94  \n",
       "4     18.7  396.90   5.33  \n",
       "5     18.7  394.12   5.21  \n",
       "6     15.2  395.60  12.43  \n",
       "7     15.2  396.90  19.15  \n",
       "8     15.2  386.63  29.93  \n",
       "9     15.2  386.71  17.10  "
      ],
      "text/html": "<div>\n<style scoped>\n    .dataframe tbody tr th:only-of-type {\n        vertical-align: middle;\n    }\n\n    .dataframe tbody tr th {\n        vertical-align: top;\n    }\n\n    .dataframe thead th {\n        text-align: right;\n    }\n</style>\n<table border=\"1\" class=\"dataframe\">\n  <thead>\n    <tr style=\"text-align: right;\">\n      <th></th>\n      <th>CRIM</th>\n      <th>ZN</th>\n      <th>INDUS</th>\n      <th>CHAS</th>\n      <th>NOX</th>\n      <th>RM</th>\n      <th>AGE</th>\n      <th>DIS</th>\n      <th>RAD</th>\n      <th>TAX</th>\n      <th>PTRATIO</th>\n      <th>B</th>\n      <th>LSTAT</th>\n    </tr>\n  </thead>\n  <tbody>\n    <tr>\n      <th>0</th>\n      <td>0.00632</td>\n      <td>18.0</td>\n      <td>2.31</td>\n      <td>0.0</td>\n      <td>0.538</td>\n      <td>6.575</td>\n      <td>65.2</td>\n      <td>4.0900</td>\n      <td>1.0</td>\n      <td>296.0</td>\n      <td>15.3</td>\n      <td>396.90</td>\n      <td>4.98</td>\n    </tr>\n    <tr>\n      <th>1</th>\n      <td>0.02731</td>\n      <td>0.0</td>\n      <td>7.07</td>\n      <td>0.0</td>\n      <td>0.469</td>\n      <td>6.421</td>\n      <td>78.9</td>\n      <td>4.9671</td>\n      <td>2.0</td>\n      <td>242.0</td>\n      <td>17.8</td>\n      <td>396.90</td>\n      <td>9.14</td>\n    </tr>\n    <tr>\n      <th>2</th>\n      <td>0.02729</td>\n      <td>0.0</td>\n      <td>7.07</td>\n      <td>0.0</td>\n      <td>0.469</td>\n      <td>7.185</td>\n      <td>61.1</td>\n      <td>4.9671</td>\n      <td>2.0</td>\n      <td>242.0</td>\n      <td>17.8</td>\n      <td>392.83</td>\n      <td>4.03</td>\n    </tr>\n    <tr>\n      <th>3</th>\n      <td>0.03237</td>\n      <td>0.0</td>\n      <td>2.18</td>\n      <td>0.0</td>\n      <td>0.458</td>\n      <td>6.998</td>\n      <td>45.8</td>\n      <td>6.0622</td>\n      <td>3.0</td>\n      <td>222.0</td>\n      <td>18.7</td>\n      <td>394.63</td>\n      <td>2.94</td>\n    </tr>\n    <tr>\n      <th>4</th>\n      <td>0.06905</td>\n      <td>0.0</td>\n      <td>2.18</td>\n      <td>0.0</td>\n      <td>0.458</td>\n      <td>7.147</td>\n      <td>54.2</td>\n      <td>6.0622</td>\n      <td>3.0</td>\n      <td>222.0</td>\n      <td>18.7</td>\n      <td>396.90</td>\n      <td>5.33</td>\n    </tr>\n    <tr>\n      <th>5</th>\n      <td>0.02985</td>\n      <td>0.0</td>\n      <td>2.18</td>\n      <td>0.0</td>\n      <td>0.458</td>\n      <td>6.430</td>\n      <td>58.7</td>\n      <td>6.0622</td>\n      <td>3.0</td>\n      <td>222.0</td>\n      <td>18.7</td>\n      <td>394.12</td>\n      <td>5.21</td>\n    </tr>\n    <tr>\n      <th>6</th>\n      <td>0.08829</td>\n      <td>12.5</td>\n      <td>7.87</td>\n      <td>0.0</td>\n      <td>0.524</td>\n      <td>6.012</td>\n      <td>66.6</td>\n      <td>5.5605</td>\n      <td>5.0</td>\n      <td>311.0</td>\n      <td>15.2</td>\n      <td>395.60</td>\n      <td>12.43</td>\n    </tr>\n    <tr>\n      <th>7</th>\n      <td>0.14455</td>\n      <td>12.5</td>\n      <td>7.87</td>\n      <td>0.0</td>\n      <td>0.524</td>\n      <td>6.172</td>\n      <td>96.1</td>\n      <td>5.9505</td>\n      <td>5.0</td>\n      <td>311.0</td>\n      <td>15.2</td>\n      <td>396.90</td>\n      <td>19.15</td>\n    </tr>\n    <tr>\n      <th>8</th>\n      <td>0.21124</td>\n      <td>12.5</td>\n      <td>7.87</td>\n      <td>0.0</td>\n      <td>0.524</td>\n      <td>5.631</td>\n      <td>100.0</td>\n      <td>6.0821</td>\n      <td>5.0</td>\n      <td>311.0</td>\n      <td>15.2</td>\n      <td>386.63</td>\n      <td>29.93</td>\n    </tr>\n    <tr>\n      <th>9</th>\n      <td>0.17004</td>\n      <td>12.5</td>\n      <td>7.87</td>\n      <td>0.0</td>\n      <td>0.524</td>\n      <td>6.004</td>\n      <td>85.9</td>\n      <td>6.5921</td>\n      <td>5.0</td>\n      <td>311.0</td>\n      <td>15.2</td>\n      <td>386.71</td>\n      <td>17.10</td>\n    </tr>\n  </tbody>\n</table>\n</div>"
     },
     "metadata": {},
     "execution_count": 127
    }
   ],
   "source": [
    "X.head(10)"
   ]
  },
  {
   "source": [
    "## Split Datasource\n",
    "Split Data in Train (80%) and Test(20%) "
   ],
   "cell_type": "markdown",
   "metadata": {}
  },
  {
   "cell_type": "code",
   "execution_count": 129,
   "metadata": {},
   "outputs": [
    {
     "output_type": "stream",
     "name": "stdout",
     "text": [
      "79.84189723320159\n20.158102766798418\n"
     ]
    }
   ],
   "source": [
    "X_train, X_test, y_train, y_test = train_test_split(X, y, train_size=0.8)\n",
    "print((X_train.size/X.size)*100)\n",
    "print((X_test.size/X.size)*100)"
   ]
  },
  {
   "cell_type": "code",
   "execution_count": 130,
   "metadata": {},
   "outputs": [
    {
     "output_type": "execute_result",
     "data": {
      "text/plain": [
       "GradientBoostingRegressor(learning_rate=1.0, max_depth=2, n_estimators=5)"
      ]
     },
     "metadata": {},
     "execution_count": 130
    }
   ],
   "source": [
    "regressor = GradientBoostingRegressor(\n",
    "    max_depth=2,\n",
    "    n_estimators=5,\n",
    "    learning_rate=1.0\n",
    ")\n",
    "regressor.fit(X_train, y_train)"
   ]
  },
  {
   "cell_type": "code",
   "execution_count": 142,
   "metadata": {},
   "outputs": [
    {
     "output_type": "stream",
     "name": "stdout",
     "text": [
      "errors estimators: [27.738051085727417, 23.196763798612555, 21.424660707501598, 20.644506539339705, 20.48358472980218]\n"
     ]
    }
   ],
   "source": [
    "errors = [mean_squared_error(y_test, y_pred) for y_pred in regressor.staged_predict(X_test)]\n",
    "\n",
    "print(\"errors estimators: {}\".format(errors))\n",
    "best_n_estimators = np.argmin(errors)"
   ]
  },
  {
   "cell_type": "code",
   "execution_count": 132,
   "metadata": {},
   "outputs": [
    {
     "output_type": "execute_result",
     "data": {
      "text/plain": [
       "GradientBoostingRegressor(learning_rate=1.0, max_depth=2, n_estimators=4)"
      ]
     },
     "metadata": {},
     "execution_count": 132
    }
   ],
   "source": [
    "best_regressor = GradientBoostingRegressor(\n",
    "    max_depth=2,\n",
    "    n_estimators=best_n_estimators,\n",
    "    learning_rate=1.0\n",
    ")\n",
    "best_regressor.fit(X_train, y_train)"
   ]
  },
  {
   "cell_type": "code",
   "execution_count": 147,
   "metadata": {},
   "outputs": [
    {
     "output_type": "stream",
     "name": "stdout",
     "text": [
      "Error[Squared: 20.64450653933971 Absolute: 3.527976517047208]\n"
     ]
    }
   ],
   "source": [
    "y_pred = best_regressor.predict(X_test)\n",
    "print(\"Error[Squared: {} Absolute: {}]\".format(mean_squared_error(y_test, y_pred), mean_absolute_error(y_test, y_pred)))"
   ]
  },
  {
   "cell_type": "code",
   "execution_count": 148,
   "metadata": {},
   "outputs": [
    {
     "output_type": "stream",
     "name": "stdout",
     "text": [
      "accuracy: 0.7679121569298369\n"
     ]
    }
   ],
   "source": [
    "acc = best_regressor.score(X_test,y_test)\n",
    "print(\"accuracy: {}\".format(acc))"
   ]
  },
  {
   "cell_type": "code",
   "execution_count": 141,
   "metadata": {},
   "outputs": [
    {
     "output_type": "execute_result",
     "data": {
      "text/plain": [
       "        CRIM    ZN  INDUS  CHAS    NOX     RM   AGE      DIS   RAD    TAX  \\\n",
       "54   0.01360  75.0   4.00   0.0  0.410  5.888  47.6   7.3197   3.0  469.0   \n",
       "353  0.01709  90.0   2.02   0.0  0.410  6.728  36.1  12.1265   5.0  187.0   \n",
       "6    0.08829  12.5   7.87   0.0  0.524  6.012  66.6   5.5605   5.0  311.0   \n",
       "476  4.87141   0.0  18.10   0.0  0.614  6.484  93.6   2.3053  24.0  666.0   \n",
       "170  1.20742   0.0  19.58   0.0  0.605  5.875  94.6   2.4259   5.0  403.0   \n",
       "271  0.16211  20.0   6.96   0.0  0.464  6.240  16.3   4.4290   3.0  223.0   \n",
       "100  0.14866   0.0   8.56   0.0  0.520  6.727  79.9   2.7778   5.0  384.0   \n",
       "189  0.08370  45.0   3.44   0.0  0.437  7.185  38.9   4.5667   5.0  398.0   \n",
       "179  0.05780   0.0   2.46   0.0  0.488  6.980  58.4   2.8290   3.0  193.0   \n",
       "223  0.61470   0.0   6.20   0.0  0.507  6.618  80.8   3.2721   8.0  307.0   \n",
       "\n",
       "     PTRATIO       B  LSTAT       pred  \n",
       "54      21.1  396.90  14.80  21.027310  \n",
       "353     17.0  384.46   4.50  37.916147  \n",
       "6       15.2  395.60  12.43  21.027310  \n",
       "476     20.2  396.21  18.68  15.033600  \n",
       "170     14.7  292.29  14.43  21.027310  \n",
       "271     18.6  396.90   6.59  24.073811  \n",
       "100     20.9  394.76   9.42  24.073811  \n",
       "189     15.2  396.90   5.39  37.579087  \n",
       "179     17.8  396.90   5.04  33.001828  \n",
       "223     17.4  396.90   7.60  24.073811  "
      ],
      "text/html": "<div>\n<style scoped>\n    .dataframe tbody tr th:only-of-type {\n        vertical-align: middle;\n    }\n\n    .dataframe tbody tr th {\n        vertical-align: top;\n    }\n\n    .dataframe thead th {\n        text-align: right;\n    }\n</style>\n<table border=\"1\" class=\"dataframe\">\n  <thead>\n    <tr style=\"text-align: right;\">\n      <th></th>\n      <th>CRIM</th>\n      <th>ZN</th>\n      <th>INDUS</th>\n      <th>CHAS</th>\n      <th>NOX</th>\n      <th>RM</th>\n      <th>AGE</th>\n      <th>DIS</th>\n      <th>RAD</th>\n      <th>TAX</th>\n      <th>PTRATIO</th>\n      <th>B</th>\n      <th>LSTAT</th>\n      <th>pred</th>\n    </tr>\n  </thead>\n  <tbody>\n    <tr>\n      <th>54</th>\n      <td>0.01360</td>\n      <td>75.0</td>\n      <td>4.00</td>\n      <td>0.0</td>\n      <td>0.410</td>\n      <td>5.888</td>\n      <td>47.6</td>\n      <td>7.3197</td>\n      <td>3.0</td>\n      <td>469.0</td>\n      <td>21.1</td>\n      <td>396.90</td>\n      <td>14.80</td>\n      <td>21.027310</td>\n    </tr>\n    <tr>\n      <th>353</th>\n      <td>0.01709</td>\n      <td>90.0</td>\n      <td>2.02</td>\n      <td>0.0</td>\n      <td>0.410</td>\n      <td>6.728</td>\n      <td>36.1</td>\n      <td>12.1265</td>\n      <td>5.0</td>\n      <td>187.0</td>\n      <td>17.0</td>\n      <td>384.46</td>\n      <td>4.50</td>\n      <td>37.916147</td>\n    </tr>\n    <tr>\n      <th>6</th>\n      <td>0.08829</td>\n      <td>12.5</td>\n      <td>7.87</td>\n      <td>0.0</td>\n      <td>0.524</td>\n      <td>6.012</td>\n      <td>66.6</td>\n      <td>5.5605</td>\n      <td>5.0</td>\n      <td>311.0</td>\n      <td>15.2</td>\n      <td>395.60</td>\n      <td>12.43</td>\n      <td>21.027310</td>\n    </tr>\n    <tr>\n      <th>476</th>\n      <td>4.87141</td>\n      <td>0.0</td>\n      <td>18.10</td>\n      <td>0.0</td>\n      <td>0.614</td>\n      <td>6.484</td>\n      <td>93.6</td>\n      <td>2.3053</td>\n      <td>24.0</td>\n      <td>666.0</td>\n      <td>20.2</td>\n      <td>396.21</td>\n      <td>18.68</td>\n      <td>15.033600</td>\n    </tr>\n    <tr>\n      <th>170</th>\n      <td>1.20742</td>\n      <td>0.0</td>\n      <td>19.58</td>\n      <td>0.0</td>\n      <td>0.605</td>\n      <td>5.875</td>\n      <td>94.6</td>\n      <td>2.4259</td>\n      <td>5.0</td>\n      <td>403.0</td>\n      <td>14.7</td>\n      <td>292.29</td>\n      <td>14.43</td>\n      <td>21.027310</td>\n    </tr>\n    <tr>\n      <th>271</th>\n      <td>0.16211</td>\n      <td>20.0</td>\n      <td>6.96</td>\n      <td>0.0</td>\n      <td>0.464</td>\n      <td>6.240</td>\n      <td>16.3</td>\n      <td>4.4290</td>\n      <td>3.0</td>\n      <td>223.0</td>\n      <td>18.6</td>\n      <td>396.90</td>\n      <td>6.59</td>\n      <td>24.073811</td>\n    </tr>\n    <tr>\n      <th>100</th>\n      <td>0.14866</td>\n      <td>0.0</td>\n      <td>8.56</td>\n      <td>0.0</td>\n      <td>0.520</td>\n      <td>6.727</td>\n      <td>79.9</td>\n      <td>2.7778</td>\n      <td>5.0</td>\n      <td>384.0</td>\n      <td>20.9</td>\n      <td>394.76</td>\n      <td>9.42</td>\n      <td>24.073811</td>\n    </tr>\n    <tr>\n      <th>189</th>\n      <td>0.08370</td>\n      <td>45.0</td>\n      <td>3.44</td>\n      <td>0.0</td>\n      <td>0.437</td>\n      <td>7.185</td>\n      <td>38.9</td>\n      <td>4.5667</td>\n      <td>5.0</td>\n      <td>398.0</td>\n      <td>15.2</td>\n      <td>396.90</td>\n      <td>5.39</td>\n      <td>37.579087</td>\n    </tr>\n    <tr>\n      <th>179</th>\n      <td>0.05780</td>\n      <td>0.0</td>\n      <td>2.46</td>\n      <td>0.0</td>\n      <td>0.488</td>\n      <td>6.980</td>\n      <td>58.4</td>\n      <td>2.8290</td>\n      <td>3.0</td>\n      <td>193.0</td>\n      <td>17.8</td>\n      <td>396.90</td>\n      <td>5.04</td>\n      <td>33.001828</td>\n    </tr>\n    <tr>\n      <th>223</th>\n      <td>0.61470</td>\n      <td>0.0</td>\n      <td>6.20</td>\n      <td>0.0</td>\n      <td>0.507</td>\n      <td>6.618</td>\n      <td>80.8</td>\n      <td>3.2721</td>\n      <td>8.0</td>\n      <td>307.0</td>\n      <td>17.4</td>\n      <td>396.90</td>\n      <td>7.60</td>\n      <td>24.073811</td>\n    </tr>\n  </tbody>\n</table>\n</div>"
     },
     "metadata": {},
     "execution_count": 141
    }
   ],
   "source": [
    "combined = X_test.copy()\n",
    "combined['pred'] = y_pred\n",
    "combined.head(10)"
   ]
  }
 ]
}